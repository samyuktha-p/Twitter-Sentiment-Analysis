{
 "cells": [
  {
   "cell_type": "code",
   "execution_count": 149,
   "metadata": {},
   "outputs": [
    {
     "name": "stdout",
     "output_type": "stream",
     "text": [
      "None\n"
     ]
    }
   ],
   "source": [
    "# DataFrame\n",
    "import pandas as pd\n",
    "\n",
    "# Matplot\n",
    "import matplotlib.pyplot as plt\n",
    "%matplotlib inline\n",
    "\n",
    "#BertTokenizer\n",
    "from transformers import BertTokenizer, PreTrainedTokenizer\n",
    "\n",
    "# Scikit-learn\n",
    "from sklearn.model_selection import train_test_split\n",
    "from sklearn.preprocessing import LabelEncoder\n",
    "from sklearn.metrics import confusion_matrix, classification_report, accuracy_score\n",
    "from sklearn.manifold import TSNE\n",
    "from sklearn.feature_extraction.text import TfidfVectorizer\n",
    "\n",
    "# Keras\n",
    "import tensorflow as tf\n",
    "from tensorflow import keras\n",
    "from tensorflow.keras import layers\n",
    "from keras.preprocessing.text import Tokenizer\n",
    "from keras.preprocessing.sequence import pad_sequences\n",
    "from tensorflow.keras.models import Model\n",
    "from tensorflow.keras.models import Sequential\n",
    "from tensorflow.keras.layers import Input, Activation, Dense, Dropout, Embedding, Flatten, LSTM, Bidirectional\n",
    "from tensorflow.keras.layers import Flatten, Activation, RepeatVector, Permute, Multiply, Lambda\n",
    "from tensorflow.keras.layers import Lambda, Conv1D, MaxPooling1D, TimeDistributed, Reshape, Concatenate\n",
    "from tensorflow.keras import utils\n",
    "from tensorflow.keras.callbacks import ReduceLROnPlateau, EarlyStopping\n",
    "from tensorflow.keras import backend as K\n",
    "\n",
    "# nltk\n",
    "import nltk\n",
    "from nltk.corpus import stopwords\n",
    "from  nltk.stem import SnowballStemmer\n",
    "from nltk.stem import PorterStemmer \n",
    "from nltk.stem import WordNetLemmatizer\n",
    "\n",
    "# Word2vec\n",
    "import gensim\n",
    "\n",
    "# Utility\n",
    "import re\n",
    "import numpy as np\n",
    "import os\n",
    "from collections import Counter\n",
    "import logging\n",
    "import time\n",
    "import pickle\n",
    "import itertools\n",
    "\n",
    "# Set log\n",
    "print(logging.basicConfig(format='%(asctime)s : %(levelname)s : %(message)s', level=logging.INFO))"
   ]
  },
  {
   "cell_type": "code",
   "execution_count": 150,
   "metadata": {},
   "outputs": [
    {
     "name": "stdout",
     "output_type": "stream",
     "text": [
      "Defaulting to user installation because normal site-packages is not writeable\n",
      "Requirement already satisfied: emot in /home/debabrata/.local/lib/python3.6/site-packages (2.1)\n"
     ]
    }
   ],
   "source": [
    "# nltk.download('stopwords')\n",
    "# %pip install demoji\n",
    "# import demoji \n",
    "  \n",
    "# demoji.download_codes() \n",
    "!pip install emot\n",
    "from emot.emo_unicode import UNICODE_EMO, EMOTICONS\n",
    "ps = PorterStemmer()\n",
    "wnl = WordNetLemmatizer()"
   ]
  },
  {
   "cell_type": "code",
   "execution_count": 151,
   "metadata": {},
   "outputs": [
    {
     "name": "stdout",
     "output_type": "stream",
     "text": [
      "Hello Happy face smiley Happy face smiley - Laughing big grin or laugh with glasses - Frown sad andry or pouting - Wink or smirk\n"
     ]
    }
   ],
   "source": [
    "# Function for converting emoticons into word\n",
    "def convert_emoticons(text):\n",
    "    for emot in EMOTICONS:\n",
    "        text = re.sub(u'('+emot+')', \" \".join(EMOTICONS[emot].replace(\",\",\"\").split()), text)\n",
    "#         text = re.sub(u'('+emot+')', \"_\".join(EMOTICONS[emot].replace(\",\",\"\").split()), text)\n",
    "    return text\n",
    "# Example\n",
    "text = \"Hello :-) :-) - :D - :( - ;D\"\n",
    "print(convert_emoticons(text))\n",
    "# ps.stem(\"fgjdgf\")"
   ]
  },
  {
   "cell_type": "code",
   "execution_count": 4,
   "metadata": {},
   "outputs": [
    {
     "data": {
      "text/plain": [
       "{}"
      ]
     },
     "execution_count": 4,
     "metadata": {},
     "output_type": "execute_result"
    }
   ],
   "source": [
    "# demoji.findall(\"hi :)\")"
   ]
  },
  {
   "cell_type": "code",
   "execution_count": 152,
   "metadata": {},
   "outputs": [],
   "source": [
    "# DATASET\n",
    "DATASET_COLUMNS = [\"target\", \"ids\", \"date\", \"flag\", \"user\", \"text\"]\n",
    "DATASET_ENCODING = \"ISO-8859-1\"\n",
    "TRAIN_SIZE = 0.8\n",
    "\n",
    "# TEXT CLENAING\n",
    "TEXT_CLEANING_RE = \"@\\S+|https?:\\S+|http?:\\S|[^A-Za-z0-9]+\"\n",
    "\n",
    "# WORD2VEC \n",
    "W2V_SIZE = 300\n",
    "W2V_WINDOW = 7\n",
    "W2V_EPOCH = 32\n",
    "W2V_MIN_COUNT = 10\n",
    "\n",
    "# KERAS\n",
    "# SEQUENCE_LENGTH = 300\n",
    "# SEQUENCE_LENGTH = 20\n",
    "# SEQUENCE_LENGTH = 40\n",
    "SEQUENCE_LENGTH = 30\n",
    "EPOCHS = 8\n",
    "# WORD_LENGTH = 30\n",
    "WORD_LENGTH = 16\n",
    "\n",
    "# EPOCHS = 4\n",
    "BATCH_SIZE = 128\n",
    "\n",
    "# SENTIMENT\n",
    "POSITIVE = \"POSITIVE\"\n",
    "NEGATIVE = \"NEGATIVE\"\n",
    "NEUTRAL = \"NEUTRAL\"\n",
    "SENTIMENT_THRESHOLDS = (0.4, 0.7)\n"
   ]
  },
  {
   "cell_type": "code",
   "execution_count": 15,
   "metadata": {},
   "outputs": [],
   "source": [
    "dataset_path = r\"training.1600000.processed.noemoticon.csv\"\n",
    "df_total = pd.read_csv(dataset_path, encoding =DATASET_ENCODING , names=DATASET_COLUMNS)"
   ]
  },
  {
   "cell_type": "code",
   "execution_count": 153,
   "metadata": {},
   "outputs": [
    {
     "name": "stdout",
     "output_type": "stream",
     "text": [
      "Dataset size: 1600000\n"
     ]
    }
   ],
   "source": [
    "print(\"Dataset size:\", len(df_total))"
   ]
  },
  {
   "cell_type": "code",
   "execution_count": 154,
   "metadata": {},
   "outputs": [
    {
     "data": {
      "text/html": [
       "<div>\n",
       "<style scoped>\n",
       "    .dataframe tbody tr th:only-of-type {\n",
       "        vertical-align: middle;\n",
       "    }\n",
       "\n",
       "    .dataframe tbody tr th {\n",
       "        vertical-align: top;\n",
       "    }\n",
       "\n",
       "    .dataframe thead th {\n",
       "        text-align: right;\n",
       "    }\n",
       "</style>\n",
       "<table border=\"1\" class=\"dataframe\">\n",
       "  <thead>\n",
       "    <tr style=\"text-align: right;\">\n",
       "      <th></th>\n",
       "      <th>target</th>\n",
       "      <th>ids</th>\n",
       "      <th>date</th>\n",
       "      <th>flag</th>\n",
       "      <th>user</th>\n",
       "      <th>text</th>\n",
       "    </tr>\n",
       "  </thead>\n",
       "  <tbody>\n",
       "    <tr>\n",
       "      <th>0</th>\n",
       "      <td>0</td>\n",
       "      <td>1467810369</td>\n",
       "      <td>Mon Apr 06 22:19:45 PDT 2009</td>\n",
       "      <td>NO_QUERY</td>\n",
       "      <td>_TheSpecialOne_</td>\n",
       "      <td>@switchfoot http://twitpic.com/2y1zl - Awww, t...</td>\n",
       "    </tr>\n",
       "    <tr>\n",
       "      <th>1</th>\n",
       "      <td>0</td>\n",
       "      <td>1467810672</td>\n",
       "      <td>Mon Apr 06 22:19:49 PDT 2009</td>\n",
       "      <td>NO_QUERY</td>\n",
       "      <td>scotthamilton</td>\n",
       "      <td>is upset that he can't update his Facebook by ...</td>\n",
       "    </tr>\n",
       "    <tr>\n",
       "      <th>2</th>\n",
       "      <td>0</td>\n",
       "      <td>1467810917</td>\n",
       "      <td>Mon Apr 06 22:19:53 PDT 2009</td>\n",
       "      <td>NO_QUERY</td>\n",
       "      <td>mattycus</td>\n",
       "      <td>@Kenichan I dived many times for the ball. Man...</td>\n",
       "    </tr>\n",
       "    <tr>\n",
       "      <th>3</th>\n",
       "      <td>0</td>\n",
       "      <td>1467811184</td>\n",
       "      <td>Mon Apr 06 22:19:57 PDT 2009</td>\n",
       "      <td>NO_QUERY</td>\n",
       "      <td>ElleCTF</td>\n",
       "      <td>my whole body feels itchy and like its on fire</td>\n",
       "    </tr>\n",
       "    <tr>\n",
       "      <th>4</th>\n",
       "      <td>0</td>\n",
       "      <td>1467811193</td>\n",
       "      <td>Mon Apr 06 22:19:57 PDT 2009</td>\n",
       "      <td>NO_QUERY</td>\n",
       "      <td>Karoli</td>\n",
       "      <td>@nationwideclass no, it's not behaving at all....</td>\n",
       "    </tr>\n",
       "  </tbody>\n",
       "</table>\n",
       "</div>"
      ],
      "text/plain": [
       "   target         ids                          date      flag  \\\n",
       "0       0  1467810369  Mon Apr 06 22:19:45 PDT 2009  NO_QUERY   \n",
       "1       0  1467810672  Mon Apr 06 22:19:49 PDT 2009  NO_QUERY   \n",
       "2       0  1467810917  Mon Apr 06 22:19:53 PDT 2009  NO_QUERY   \n",
       "3       0  1467811184  Mon Apr 06 22:19:57 PDT 2009  NO_QUERY   \n",
       "4       0  1467811193  Mon Apr 06 22:19:57 PDT 2009  NO_QUERY   \n",
       "\n",
       "              user                                               text  \n",
       "0  _TheSpecialOne_  @switchfoot http://twitpic.com/2y1zl - Awww, t...  \n",
       "1    scotthamilton  is upset that he can't update his Facebook by ...  \n",
       "2         mattycus  @Kenichan I dived many times for the ball. Man...  \n",
       "3          ElleCTF    my whole body feels itchy and like its on fire   \n",
       "4           Karoli  @nationwideclass no, it's not behaving at all....  "
      ]
     },
     "execution_count": 154,
     "metadata": {},
     "output_type": "execute_result"
    }
   ],
   "source": [
    "df_total.head(5)"
   ]
  },
  {
   "cell_type": "code",
   "execution_count": 155,
   "metadata": {},
   "outputs": [
    {
     "name": "stdout",
     "output_type": "stream",
     "text": [
      "1600000\n"
     ]
    }
   ],
   "source": [
    "# df = df_total.iloc[0:50000, :]\n",
    "# df = df_total\n",
    "import random\n",
    "\n",
    "def some(x, n):\n",
    "    return x.iloc[np.random.randint(0, len(x), n)]\n",
    "\n",
    "# df_pos = df_total.iloc[0:int(len(df_total)/2), :]\n",
    "# df_neg = df_total.iloc[int(len(df_total)/2): len(df_total), :]\n",
    "\n",
    "# df = df_total.iloc[0:10000, :]\n",
    "# df2 = df_total.iloc[-10000:, :]\n",
    "# df = some(df_pos, 100000)\n",
    "# df2 = some(df_neg, 100000)\n",
    "# df = some(df_pos, 200000)\n",
    "# df2 = some(df_neg, 200000)\n",
    "# df = some(df_pos, 400000)\n",
    "# df2 = some(df_neg, 400000)\n",
    "# df = df.append(df2, ignore_index=True)\n",
    "df = df_total.sample(frac=1)\n",
    "print(len(df))"
   ]
  },
  {
   "cell_type": "code",
   "execution_count": 156,
   "metadata": {},
   "outputs": [
    {
     "data": {
      "text/html": [
       "<div>\n",
       "<style scoped>\n",
       "    .dataframe tbody tr th:only-of-type {\n",
       "        vertical-align: middle;\n",
       "    }\n",
       "\n",
       "    .dataframe tbody tr th {\n",
       "        vertical-align: top;\n",
       "    }\n",
       "\n",
       "    .dataframe thead th {\n",
       "        text-align: right;\n",
       "    }\n",
       "</style>\n",
       "<table border=\"1\" class=\"dataframe\">\n",
       "  <thead>\n",
       "    <tr style=\"text-align: right;\">\n",
       "      <th></th>\n",
       "      <th>target</th>\n",
       "      <th>ids</th>\n",
       "      <th>date</th>\n",
       "      <th>flag</th>\n",
       "      <th>user</th>\n",
       "      <th>text</th>\n",
       "    </tr>\n",
       "  </thead>\n",
       "  <tbody>\n",
       "    <tr>\n",
       "      <th>7365</th>\n",
       "      <td>0</td>\n",
       "      <td>1469785214</td>\n",
       "      <td>Tue Apr 07 07:24:47 PDT 2009</td>\n",
       "      <td>NO_QUERY</td>\n",
       "      <td>Janoita</td>\n",
       "      <td>@J44SS Meany, you got me all excited for 90210...</td>\n",
       "    </tr>\n",
       "    <tr>\n",
       "      <th>784712</th>\n",
       "      <td>0</td>\n",
       "      <td>2324237108</td>\n",
       "      <td>Thu Jun 25 02:38:45 PDT 2009</td>\n",
       "      <td>NO_QUERY</td>\n",
       "      <td>sprinkles_</td>\n",
       "      <td>@knitwits1 in pain  swilling my mouth out in s...</td>\n",
       "    </tr>\n",
       "    <tr>\n",
       "      <th>689123</th>\n",
       "      <td>0</td>\n",
       "      <td>2251688356</td>\n",
       "      <td>Sat Jun 20 04:16:57 PDT 2009</td>\n",
       "      <td>NO_QUERY</td>\n",
       "      <td>taasshhh</td>\n",
       "      <td>we lost by 2!! So sad</td>\n",
       "    </tr>\n",
       "    <tr>\n",
       "      <th>581616</th>\n",
       "      <td>0</td>\n",
       "      <td>2214341530</td>\n",
       "      <td>Wed Jun 17 16:36:22 PDT 2009</td>\n",
       "      <td>NO_QUERY</td>\n",
       "      <td>spiritxwolf</td>\n",
       "      <td>cant sleep  so is going old school retro gamin...</td>\n",
       "    </tr>\n",
       "    <tr>\n",
       "      <th>1199932</th>\n",
       "      <td>4</td>\n",
       "      <td>1985402076</td>\n",
       "      <td>Sun May 31 17:02:07 PDT 2009</td>\n",
       "      <td>NO_QUERY</td>\n",
       "      <td>xoxomimi95</td>\n",
       "      <td>ASK ROB IF HES DATING KRISTEN I WANNA SEE IF T...</td>\n",
       "    </tr>\n",
       "  </tbody>\n",
       "</table>\n",
       "</div>"
      ],
      "text/plain": [
       "         target         ids                          date      flag  \\\n",
       "7365          0  1469785214  Tue Apr 07 07:24:47 PDT 2009  NO_QUERY   \n",
       "784712        0  2324237108  Thu Jun 25 02:38:45 PDT 2009  NO_QUERY   \n",
       "689123        0  2251688356  Sat Jun 20 04:16:57 PDT 2009  NO_QUERY   \n",
       "581616        0  2214341530  Wed Jun 17 16:36:22 PDT 2009  NO_QUERY   \n",
       "1199932       4  1985402076  Sun May 31 17:02:07 PDT 2009  NO_QUERY   \n",
       "\n",
       "                user                                               text  \n",
       "7365         Janoita  @J44SS Meany, you got me all excited for 90210...  \n",
       "784712    sprinkles_  @knitwits1 in pain  swilling my mouth out in s...  \n",
       "689123      taasshhh                              we lost by 2!! So sad  \n",
       "581616   spiritxwolf  cant sleep  so is going old school retro gamin...  \n",
       "1199932   xoxomimi95  ASK ROB IF HES DATING KRISTEN I WANNA SEE IF T...  "
      ]
     },
     "execution_count": 156,
     "metadata": {},
     "output_type": "execute_result"
    }
   ],
   "source": [
    "df.head(5)"
   ]
  },
  {
   "cell_type": "code",
   "execution_count": 157,
   "metadata": {},
   "outputs": [],
   "source": [
    "decode_map = {0: \"NEGATIVE\", 2: \"NEUTRAL\", 4: \"POSITIVE\"}\n",
    "def decode_sentiment(label):\n",
    "#     try:\n",
    "#         res = decode_map[int(label)]\n",
    "#     except:\n",
    "#         print(label)\n",
    "    return decode_map[int(label)]"
   ]
  },
  {
   "cell_type": "code",
   "execution_count": 158,
   "metadata": {},
   "outputs": [
    {
     "name": "stdout",
     "output_type": "stream",
     "text": [
      "CPU times: user 527 ms, sys: 15.6 ms, total: 543 ms\n",
      "Wall time: 540 ms\n"
     ]
    }
   ],
   "source": [
    "%%time\n",
    "df.target = df.target.apply(lambda x: decode_sentiment(x))"
   ]
  },
  {
   "cell_type": "code",
   "execution_count": 159,
   "metadata": {},
   "outputs": [
    {
     "data": {
      "text/plain": [
       "Text(0.5, 1.0, 'Dataset labels distribuition')"
      ]
     },
     "execution_count": 159,
     "metadata": {},
     "output_type": "execute_result"
    },
    {
     "data": {
      "image/png": "[encoded data removed]",
      "text/plain": [
       "<Figure size 1152x576 with 1 Axes>"
      ]
     },
     "metadata": {
      "needs_background": "light"
     },
     "output_type": "display_data"
    }
   ],
   "source": [
    "target_cnt = Counter(df.target)\n",
    "\n",
    "plt.figure(figsize=(16,8))\n",
    "plt.bar(target_cnt.keys(), target_cnt.values())\n",
    "plt.title(\"Dataset labels distribuition\")"
   ]
  },
  {
   "cell_type": "code",
   "execution_count": 23,
   "metadata": {},
   "outputs": [],
   "source": [
    "stop_words = stopwords.words(\"english\")\n",
    "# print(stop_words)\n",
    "# stop_words = ['i', 'me', 'my', 'myself', 'we', 'our', 'ours', 'ourselves', 'you', \"you're\", \n",
    "#               \"you've\", \"you'll\", \"you'd\", 'your', 'yours', 'yourself', 'yourselves', 'he', 'him', \n",
    "#               'his', 'himself', 'she', \"she's\", 'her', 'hers', 'herself', 'it', \"it's\", 'its', 'itself', \n",
    "#               'they', 'them', 'their', 'theirs', 'themselves', 'what', 'which', 'who', 'whom', 'this', 'that', \n",
    "#               \"that'll\", 'these', 'those', 'am', 'is', 'are', 'was', 'were', 'be', 'been', 'being', 'have', \n",
    "#               'has', 'had', 'having', 'do', 'does', 'did', 'doing', 'a', 'an', 'the', 'and', 'but', 'if', 'or', \n",
    "#               'because', 'as', 'until', 'while', 'of', 'at', 'by', 'for', 'with', 'to', 'from', 'in', \n",
    "#               'out', 'again', 'further', 'then', 'once', 'here', 'there', 'when', \n",
    "#               'where', 'why', 'how', 'all', 'any', 'both', 'each', 'few', 'other', 'some', 'such', \n",
    "#               'only', 'own', 'same', 'so', 'than', 'too', 'very', 's', 't', 'can', 'will', \n",
    "#               'just', 'don', 'should', \"should've\", 'now', 'd', 'll', 'm', 'o', 're', 've', 'y', 'ma']\n",
    "\n",
    "stop_words = [w for w in nltk.corpus.stopwords.words('english') if not (w.startswith(\"no\") and w.endswith(\"n't\"))]\n",
    "stop_words.append(\"now\")\n",
    "stop_words += [\"monday\", \"tuesday\", \"wednesday\", \"thursday\", \"friday\", \"saturday\", \"sunday\"]\n",
    "stop_words += [\"january\", \"february\", \"march\", \"april\", \"may\", \"june\", \"july\", \"august\", \"september\", \"october\", \"november\", \"december\"]\n",
    "stop_words += [\"ms\", \"mr\", \"mrs\"]\n",
    "# print(stop_words)\n",
    "stemmer = SnowballStemmer(\"english\")"
   ]
  },
  {
   "cell_type": "code",
   "execution_count": 24,
   "metadata": {},
   "outputs": [],
   "source": [
    "bert_tokenizer = BertTokenizer.from_pretrained('bert-base-uncased')\n",
    "# tokenizer_large = BertTokenizer.from_pretrained('bert-large-uncased')\n",
    "from transformers import XLNetTokenizer\n",
    "xl_tokenizer = XLNetTokenizer.from_pretrained(\"xlnet-base-cased\")\n",
    "# xl_tokenizer_large = XLNetTokenizer.from_pretrained(\"xlnet-large-cased\")\n",
    "# from transformers import DistilBertTokenizer\n",
    "# distil_tokenizer = DistilBertTokenizer.from_pretrained('distilbert-base-uncased')\n",
    "\n",
    "\n",
    "from nltk.tokenize import TweetTokenizer \n",
    "  \n",
    "tweet_tokenizer = TweetTokenizer() \n",
    "# tokenizer = PreTrainedTokenizer.from_pretrained('bert-base-uncased')"
   ]
  },
  {
   "cell_type": "code",
   "execution_count": 25,
   "metadata": {},
   "outputs": [],
   "source": [
    "def word_tokenize(w):\n",
    "    w = w.lower()\n",
    "    xl_w = xl_tokenizer.tokenize(w)\n",
    "    bert_w = bert_tokenizer.tokenize(w)\n",
    "    if(len(xl_w)-1 < len(bert_w)):\n",
    "        text = \" \".join([ps.stem(w) for w in xl_w])\n",
    "    else:\n",
    "        text = \" \".join([ps.stem(w) for w in bert_w])\n",
    "#     print(text)\n",
    "    text = re.sub(\"[▁#]\", \"\", text)\n",
    "    return text\n",
    "\n",
    "def sent_tokenize(s):\n",
    "    s = re.sub(\"[^a-z ]\", \"\", s)\n",
    "    print(s)\n",
    "    s_text = [word_tokenize(w) for w in s.split()]\n",
    "    print(s_text)\n",
    "    s = \" \".join(s_text)\n",
    "    s = re.sub(\"[▁#]\", \"\", s)\n",
    "    return s"
   ]
  },
  {
   "cell_type": "code",
   "execution_count": 26,
   "metadata": {},
   "outputs": [
    {
     "data": {
      "text/plain": [
       "'happy'"
      ]
     },
     "execution_count": 26,
     "metadata": {},
     "output_type": "execute_result"
    }
   ],
   "source": [
    "from itertools import groupby \n",
    "def remove_all_consecutive(str1): \n",
    "    result_str = [] \n",
    "    word=\"\"\n",
    "    for (key,group) in groupby(str1): \n",
    "        if len(list(group))>1 and (key in ['d', 'e', 'f', 'g', 'l', 'm', 'n', 'o', 'p', 'r', 's', 't', 'z']):\n",
    "            word+=key*2\n",
    "        else:\n",
    "            word+=key\n",
    "    return word\n",
    "remove_all_consecutive(\"haapppppy\")"
   ]
  },
  {
   "cell_type": "code",
   "execution_count": 27,
   "metadata": {},
   "outputs": [],
   "source": [
    "# function to convert nltk tag to wordnet tag\n",
    "def nltk_tag_to_wordnet_tag(nltk_tag):\n",
    "    if nltk_tag.startswith('J'):\n",
    "        return wordnet.ADJ\n",
    "    elif nltk_tag.startswith('V'):\n",
    "        return wordnet.VERB\n",
    "    elif nltk_tag.startswith('N'):\n",
    "        return wordnet.NOUN\n",
    "    elif nltk_tag.startswith('R'):\n",
    "        return wordnet.ADV\n",
    "    else:          \n",
    "        return None\n",
    "\n",
    "def lemmatize_sentence(sentence):\n",
    "    #tokenize the sentence and find the POS tag for each token\n",
    "    nltk_tagged = nltk.pos_tag(nltk.word_tokenize(sentence))  \n",
    "    #tuple of (token, wordnet_tag)\n",
    "    wordnet_tagged = map(lambda x: (x[0], nltk_tag_to_wordnet_tag(x[1])), nltk_tagged)\n",
    "    lemmatized_sentence = []\n",
    "    for word, tag in wordnet_tagged:\n",
    "        if tag is None:\n",
    "            #if there is no available tag, append the token as is\n",
    "            lemmatized_sentence.append(word)\n",
    "        else:        \n",
    "            #else use the tag to lemmatize the token\n",
    "            lemmatized_sentence.append(lemmatizer.lemmatize(word, tag))\n",
    "    return \" \".join(lemmatized_sentence)\n",
    "\n",
    "def preprocess(text, stem=False):\n",
    "#     emoticons = [\":)\", \":-)\", \":^)\", \"^_^\", \"(^^)\", \":,-)\", \"8-)\", \"B-)\", \"o:-)\", \":-D\", \"}:-)\", \";)\", \";-)\", \":-*\", \":-P\", \":-!\"]\n",
    "    # Remove link,user and special characters\n",
    "#     text = re.sub(TEXT_CLEANING_RE, ' ', str(text).lower()).strip()\n",
    "    text = re.sub(r\"http\\S+\", \"\", text)\n",
    "#     print(text)\n",
    "    text = convert_emoticons(text)\n",
    "#     print(text)\n",
    "    text = re.sub(\"[^A-Za-z ]\", \"\", text)\n",
    "    def word_convert(w):\n",
    "        if w.startswith('#'):\n",
    "            return word_tokenize(token)\n",
    "        else:\n",
    "            return ps.stem(remove_all_consecutive(w))\n",
    "    tokens = [word_convert(token) for token in text.split()]\n",
    "    tokens = \" \".join(tokens)\n",
    "    tokens = [token for token in tokens.split() if (token not in stop_words) and len(token)>1]\n",
    "    return \" \".join(tokens)\n"
   ]
  },
  {
   "cell_type": "code",
   "execution_count": 28,
   "metadata": {},
   "outputs": [
    {
     "name": "stdout",
     "output_type": "stream",
     "text": [
      "haaaaaaaaaaaappi\n",
      "['haaaaaaapy']\n",
      "DUP_processed: shoulda got happi gap happi face smiley joy\n",
      "Original string:xxxxxyyyyy\n",
      "After removing consecutive duplicates: xxxxxyyyyy\n",
      "xy\n",
      "@switchfoot http://twitpic.com/2y1zl - Awww, that's a bummer.  You shoulda got David Carr of Third Day to do it. ;D\n",
      "switchfoot Aw bummer shoulda got david carr third day wink smirk\n"
     ]
    }
   ],
   "source": [
    "\n",
    "print(ps.stem(\"haaaaaaaaaaaappy\"))\n",
    "print(tweet_tokenizer.tokenize(\"haaaaaaapy\"))\n",
    "print(\"DUP_processed:\", preprocess(\"shoulda got haaaaaaaaaaaappyyyyyyyy gap ->  :)  - ^_^\"))\n",
    "\n",
    "str1 = 'xxxxxyyyyy'\n",
    "print(\"Original string:\" + str1)\n",
    "print(\"After removing consecutive duplicates: \" + str1)\n",
    "print(remove_all_consecutive(str1))\n",
    "\n",
    "for d in df_pos['text']:\n",
    "    print(d)\n",
    "    print(preprocess(d))\n",
    "    break"
   ]
  },
  {
   "cell_type": "code",
   "execution_count": 29,
   "metadata": {},
   "outputs": [
    {
     "name": "stdout",
     "output_type": "stream",
     "text": [
      "CPU times: user 1min 42s, sys: 530 ms, total: 1min 43s\n",
      "Wall time: 1min 42s\n"
     ]
    }
   ],
   "source": [
    "%%time\n",
    "# df_proc = df.text.apply(lambda x: preprocess(x))\n",
    "# df.text = df.text.apply(lambda x: preprocess(x))"
   ]
  },
  {
   "cell_type": "code",
   "execution_count": 160,
   "metadata": {},
   "outputs": [
    {
     "name": "stdout",
     "output_type": "stream",
     "text": [
      "TRAIN size: 640000\n",
      "TEST size: 320000\n"
     ]
    }
   ],
   "source": [
    "# df_train, df_test = train_test_split(df, test_size=1-TRAIN_SIZE, random_state=42)\n",
    "df_train = df.head(640000)\n",
    "df_test =  df.tail(320000)\n",
    "print(\"TRAIN size:\", len(df_train))\n",
    "print(\"TEST size:\", len(df_test))\n"
   ]
  },
  {
   "cell_type": "code",
   "execution_count": 161,
   "metadata": {},
   "outputs": [
    {
     "name": "stderr",
     "output_type": "stream",
     "text": [
      "/home/debabrata/.local/lib/python3.6/site-packages/pandas/core/generic.py:5170: SettingWithCopyWarning: \n",
      "A value is trying to be set on a copy of a slice from a DataFrame.\n",
      "Try using .loc[row_indexer,col_indexer] = value instead\n",
      "\n",
      "See the caveats in the documentation: https://pandas.pydata.org/pandas-docs/stable/user_guide/indexing.html#returning-a-view-versus-a-copy\n",
      "  self[name] = value\n"
     ]
    },
    {
     "name": "stdout",
     "output_type": "stream",
     "text": [
      "CPU times: user 8min 15s, sys: 1.13 s, total: 8min 16s\n",
      "Wall time: 8min 15s\n"
     ]
    }
   ],
   "source": [
    "%%time\n",
    "df_train.text = df_train.text.apply(lambda x: preprocess(x))\n",
    "df_test.text = df_test.text.apply(lambda x: preprocess(x))"
   ]
  },
  {
   "cell_type": "code",
   "execution_count": 162,
   "metadata": {},
   "outputs": [
    {
     "data": {
      "text/html": [
       "<div>\n",
       "<style scoped>\n",
       "    .dataframe tbody tr th:only-of-type {\n",
       "        vertical-align: middle;\n",
       "    }\n",
       "\n",
       "    .dataframe tbody tr th {\n",
       "        vertical-align: top;\n",
       "    }\n",
       "\n",
       "    .dataframe thead th {\n",
       "        text-align: right;\n",
       "    }\n",
       "</style>\n",
       "<table border=\"1\" class=\"dataframe\">\n",
       "  <thead>\n",
       "    <tr style=\"text-align: right;\">\n",
       "      <th></th>\n",
       "      <th>target</th>\n",
       "      <th>ids</th>\n",
       "      <th>date</th>\n",
       "      <th>flag</th>\n",
       "      <th>user</th>\n",
       "      <th>text</th>\n",
       "    </tr>\n",
       "  </thead>\n",
       "  <tbody>\n",
       "    <tr>\n",
       "      <th>7365</th>\n",
       "      <td>NEGATIVE</td>\n",
       "      <td>1469785214</td>\n",
       "      <td>Tue Apr 07 07:24:47 PDT 2009</td>\n",
       "      <td>NO_QUERY</td>\n",
       "      <td>Janoita</td>\n",
       "      <td>JS meani got excit today cha</td>\n",
       "    </tr>\n",
       "    <tr>\n",
       "      <th>784712</th>\n",
       "      <td>NEGATIVE</td>\n",
       "      <td>2324237108</td>\n",
       "      <td>Thu Jun 25 02:38:45 PDT 2009</td>\n",
       "      <td>NO_QUERY</td>\n",
       "      <td>sprinkles_</td>\n",
       "      <td>knitwit pain swill mouth salt water ew</td>\n",
       "    </tr>\n",
       "    <tr>\n",
       "      <th>689123</th>\n",
       "      <td>NEGATIVE</td>\n",
       "      <td>2251688356</td>\n",
       "      <td>Sat Jun 20 04:16:57 PDT 2009</td>\n",
       "      <td>NO_QUERY</td>\n",
       "      <td>taasshhh</td>\n",
       "      <td>lost So sad</td>\n",
       "    </tr>\n",
       "    <tr>\n",
       "      <th>581616</th>\n",
       "      <td>NEGATIVE</td>\n",
       "      <td>2214341530</td>\n",
       "      <td>Wed Jun 17 16:36:22 PDT 2009</td>\n",
       "      <td>NO_QUERY</td>\n",
       "      <td>spiritxwolf</td>\n",
       "      <td>cant sleep go old school retro game play stree...</td>\n",
       "    </tr>\n",
       "    <tr>\n",
       "      <th>1199932</th>\n",
       "      <td>POSITIVE</td>\n",
       "      <td>1985402076</td>\n",
       "      <td>Sun May 31 17:02:07 PDT 2009</td>\n",
       "      <td>NO_QUERY</td>\n",
       "      <td>xoxomimi95</td>\n",
       "      <td>ask rob IF date kristen wana SE IF rumor true ...</td>\n",
       "    </tr>\n",
       "  </tbody>\n",
       "</table>\n",
       "</div>"
      ],
      "text/plain": [
       "           target         ids                          date      flag  \\\n",
       "7365     NEGATIVE  1469785214  Tue Apr 07 07:24:47 PDT 2009  NO_QUERY   \n",
       "784712   NEGATIVE  2324237108  Thu Jun 25 02:38:45 PDT 2009  NO_QUERY   \n",
       "689123   NEGATIVE  2251688356  Sat Jun 20 04:16:57 PDT 2009  NO_QUERY   \n",
       "581616   NEGATIVE  2214341530  Wed Jun 17 16:36:22 PDT 2009  NO_QUERY   \n",
       "1199932  POSITIVE  1985402076  Sun May 31 17:02:07 PDT 2009  NO_QUERY   \n",
       "\n",
       "                user                                               text  \n",
       "7365         Janoita                       JS meani got excit today cha  \n",
       "784712    sprinkles_             knitwit pain swill mouth salt water ew  \n",
       "689123      taasshhh                                        lost So sad  \n",
       "581616   spiritxwolf  cant sleep go old school retro game play stree...  \n",
       "1199932   xoxomimi95  ask rob IF date kristen wana SE IF rumor true ...  "
      ]
     },
     "execution_count": 162,
     "metadata": {},
     "output_type": "execute_result"
    }
   ],
   "source": [
    "df_train.head()"
   ]
  },
  {
   "cell_type": "code",
   "execution_count": 32,
   "metadata": {},
   "outputs": [
    {
     "name": "stderr",
     "output_type": "stream",
     "text": [
      "2021-01-20 23:30:29,335 : INFO : loading projection weights from ../../ADL/project 1/GoogleNews-vectors-negative300.bin\n",
      "2021-01-20 23:30:51,154 : INFO : loaded (3000000, 300) matrix from ../../ADL/project 1/GoogleNews-vectors-negative300.bin\n"
     ]
    }
   ],
   "source": [
    "word2vec = gensim.models.KeyedVectors.load_word2vec_format('../../ADL/project 1/GoogleNews-vectors-negative300.bin', binary=True)"
   ]
  },
  {
   "cell_type": "code",
   "execution_count": 163,
   "metadata": {},
   "outputs": [],
   "source": [
    "NB_WORDS =  100000\n",
    "# NB_WORDS = 8000"
   ]
  },
  {
   "cell_type": "code",
   "execution_count": 164,
   "metadata": {},
   "outputs": [
    {
     "name": "stdout",
     "output_type": "stream",
     "text": [
      "Total words 344738\n",
      "CPU times: user 5.73 s, sys: 80.1 ms, total: 5.81 s\n",
      "Wall time: 5.79 s\n"
     ]
    }
   ],
   "source": [
    "%%time\n",
    "tokenizer = Tokenizer(num_words=NB_WORDS, filters='\\t\\n', oov_token=\"OOV\")\n",
    "tokenizer.fit_on_texts(df_train.text)\n",
    "\n",
    "vocab_size = len(tokenizer.word_index) + 1\n",
    "print(\"Total words\", vocab_size)"
   ]
  },
  {
   "cell_type": "code",
   "execution_count": 165,
   "metadata": {},
   "outputs": [
    {
     "name": "stdout",
     "output_type": "stream",
     "text": [
      "640000\n",
      "7365                JS meani got excit today cha\n",
      "784712    knitwit pain swill mouth salt water ew\n",
      "Name: text, dtype: object\n",
      "pjrea haha hope enjoy easter break doesnt last much longer\n",
      "[[1, 55, 29, 153, 2690, 347, 158, 43, 42, 637]]\n"
     ]
    }
   ],
   "source": [
    "print(len(df_train.text))\n",
    "print(df_train.text[0:2])\n",
    "print(df.text[12113])\n",
    "# print(x_train[1])\n",
    "print(tokenizer.texts_to_sequences([df.text[12113]]))"
   ]
  },
  {
   "cell_type": "code",
   "execution_count": 166,
   "metadata": {},
   "outputs": [
    {
     "data": {
      "text/plain": [
       "count    1.600000e+06\n",
       "mean     1.000937e+01\n",
       "std      6.015761e+00\n",
       "min      0.000000e+00\n",
       "25%      5.000000e+00\n",
       "50%      9.000000e+00\n",
       "75%      1.300000e+01\n",
       "max      5.800000e+01\n",
       "Name: text, dtype: float64"
      ]
     },
     "execution_count": 166,
     "metadata": {},
     "output_type": "execute_result"
    }
   ],
   "source": [
    "seq_lengths = df.text.apply(lambda x: len(x.split()))\n",
    "seq_lengths.describe()"
   ]
  },
  {
   "cell_type": "code",
   "execution_count": 226,
   "metadata": {},
   "outputs": [
    {
     "name": "stdout",
     "output_type": "stream",
     "text": [
      "count    1.601499e+07\n",
      "mean     4.722069e+00\n",
      "std      2.709923e+00\n",
      "min      1.000000e+00\n",
      "25%      3.000000e+00\n",
      "50%      4.000000e+00\n",
      "75%      6.000000e+00\n",
      "max      3.580000e+02\n",
      "dtype: float64\n"
     ]
    }
   ],
   "source": [
    "word_lengths = df.text.apply(lambda x: [len(y) for y in x.split()])\n",
    "list_word_lengths=[]\n",
    "for word_ in word_lengths:\n",
    "    for j in word_:\n",
    "        list_word_lengths.append(j)\n",
    "# print(word_lengths[0])\n",
    "w_lengths = pd.Series(list_word_lengths).apply(lambda x: x)\n",
    "print(w_lengths.describe())\n",
    "# seq_lengths.describe()\n",
    "# print(WORD_LENGTH)"
   ]
  },
  {
   "cell_type": "code",
   "execution_count": 227,
   "metadata": {},
   "outputs": [
    {
     "data": {
      "image/png": "[encoded data removed]",
      "text/plain": [
       "<Figure size 720x504 with 1 Axes>"
      ]
     },
     "metadata": {
      "needs_background": "light"
     },
     "output_type": "display_data"
    },
    {
     "data": {
      "image/png": "[encoded data removed]",
      "text/plain": [
       "<Figure size 720x504 with 1 Axes>"
      ]
     },
     "metadata": {
      "needs_background": "light"
     },
     "output_type": "display_data"
    }
   ],
   "source": [
    "fig, ax = plt.subplots(figsize =(10, 7))  \n",
    "ax.hist(list_word_lengths, bins = [i for i in range(17)], color = \"skyblue\", ec=\"blue\")\n",
    "plt.show() \n",
    "fig, ax = plt.subplots(figsize =(10, 7)) \n",
    "ax.hist(seq_lengths, bins = [i for i in range(30)], color = \"skyblue\", ec=\"blue\") \n",
    "# Show plot \n",
    "plt.show() "
   ]
  },
  {
   "cell_type": "code",
   "execution_count": 167,
   "metadata": {},
   "outputs": [
    {
     "name": "stdout",
     "output_type": "stream",
     "text": [
      "CPU times: user 11.6 s, sys: 660 ms, total: 12.3 s\n",
      "Wall time: 12.3 s\n"
     ]
    }
   ],
   "source": [
    "%%time\n",
    "x_train = pad_sequences(tokenizer.texts_to_sequences(df_train.text), maxlen=SEQUENCE_LENGTH)\n",
    "x_test = pad_sequences(tokenizer.texts_to_sequences(df_test.text), maxlen=SEQUENCE_LENGTH)"
   ]
  },
  {
   "cell_type": "code",
   "execution_count": 223,
   "metadata": {},
   "outputs": [
    {
     "name": "stdout",
     "output_type": "stream",
     "text": [
      "{'0': 1, '1': 2, '2': 3, '3': 4, '4': 5, '5': 6, '6': 7, '7': 8, '8': 9, '9': 10, 'a': 11, 'b': 12, 'c': 13, 'd': 14, 'e': 15, 'f': 16, 'g': 17, 'h': 18, 'i': 19, 'j': 20, 'k': 21, 'l': 22, 'm': 23, 'n': 24, 'o': 25, 'p': 26, 'q': 27, 'r': 28, 's': 29, 't': 30, 'u': 31, 'v': 32, 'w': 33, 'x': 34, 'y': 35, 'z': 36, 'A': 37, 'B': 38, 'C': 39, 'D': 40, 'E': 41, 'F': 42, 'G': 43, 'H': 44, 'I': 45, 'J': 46, 'K': 47, 'L': 48, 'M': 49, 'N': 50, 'O': 51, 'P': 52, 'Q': 53, 'R': 54, 'S': 55, 'T': 56, 'U': 57, 'V': 58, 'W': 59, 'X': 60, 'Y': 61, 'Z': 62, '!': 63, '\"': 64, '#': 65, '$': 66, '%': 67, '&': 68, \"'\": 69, '(': 70, ')': 71, '*': 72, '+': 73, ',': 74, '-': 75, '.': 76, '/': 77, ':': 78, ';': 79, '<': 80, '=': 81, '>': 82, '?': 83, '@': 84, '[': 85, '\\\\': 86, ']': 87, '^': 88, '_': 89, '`': 90, '{': 91, '|': 92, '}': 93, '~': 94, ' ': 95, '\\t': 96, '\\n': 97, '\\r': 98, '\\x0b': 99, '\\x0c': 100}\n",
      "CPU times: user 971 µs, sys: 0 ns, total: 971 µs\n",
      "Wall time: 894 µs\n"
     ]
    }
   ],
   "source": [
    "%%time\n",
    "# convert_df_train = df.text.apply(lambda x: np.pad(np.asarray(x.split()), (0, SEQUENCE_LENGTH - len(x)), 'constant'))\n",
    "char_dict = {}\n",
    "import string\n",
    "\n",
    "for ch in string.printable:\n",
    "    char_dict[ch]=0\n",
    "\n",
    "def count_chars(x):\n",
    "    for word in x:\n",
    "        for char in word:\n",
    "            if char in char_dict:\n",
    "                char_dict[char]+=1\n",
    "            else:\n",
    "                char_dict[char]=1\n",
    "# df.text.apply(count_chars)\n",
    "charToInd={}\n",
    "indToChar={}\n",
    "\n",
    "for i, k in enumerate(char_dict):\n",
    "    charToInd[k]=i+1\n",
    "    indToChar[i+1]=k\n",
    "    \n",
    "# print(char_dict)\n",
    "print(charToInd)\n",
    "# print(indToChar)"
   ]
  },
  {
   "cell_type": "code",
   "execution_count": 40,
   "metadata": {},
   "outputs": [],
   "source": [
    "def wordToChar(x):\n",
    "    sent_list = []\n",
    "    def return_word(word):\n",
    "        if(len(word)>WORD_LENGTH):\n",
    "            word = word[:WORD_LENGTH]\n",
    "        return np.pad(np.asarray([charToInd[ch] for ch in word]), (0, WORD_LENGTH - len(word)), 'constant')\n",
    "#     print(len(x.split()))\n",
    "    try:\n",
    "        sent_list = list(map(return_word, x.split()[0:SEQUENCE_LENGTH]))\n",
    "    except:\n",
    "        print(len(x.split()))\n",
    "        print(x)\n",
    "    if(len(sent_list)<SEQUENCE_LENGTH):\n",
    "        sent_list = sent_list+[[0]*WORD_LENGTH]*(SEQUENCE_LENGTH-len(sent_list))\n",
    "    return np.asarray(sent_list)"
   ]
  },
  {
   "cell_type": "code",
   "execution_count": 169,
   "metadata": {},
   "outputs": [
    {
     "data": {
      "text/plain": [
       "(640000,)"
      ]
     },
     "execution_count": 169,
     "metadata": {},
     "output_type": "execute_result"
    }
   ],
   "source": [
    "df_train.text.shape"
   ]
  },
  {
   "cell_type": "code",
   "execution_count": 170,
   "metadata": {},
   "outputs": [
    {
     "name": "stdout",
     "output_type": "stream",
     "text": [
      "CPU times: user 3min 56s, sys: 3.73 s, total: 4min\n",
      "Wall time: 3min 58s\n"
     ]
    }
   ],
   "source": [
    "%%time\n",
    "# np_df_train = np.asarray(df_train.text)\n",
    "x_train_char = np.asarray(list(map(wordToChar, df_train.text)))\n",
    "# np_df_test = np.asarray(df_test.text)\n",
    "x_test_char = np.asarray(list(map(wordToChar, df_test.text)))"
   ]
  },
  {
   "cell_type": "code",
   "execution_count": 171,
   "metadata": {},
   "outputs": [
    {
     "name": "stdout",
     "output_type": "stream",
     "text": [
      "(640000, 30, 16)\n",
      "(30, 16)\n",
      "[[22 25 29 30  0  0  0  0  0  0  0  0  0  0  0  0]\n",
      " [55 25  0  0  0  0  0  0  0  0  0  0  0  0  0  0]\n",
      " [29 11 14  0  0  0  0  0  0  0  0  0  0  0  0  0]\n",
      " [ 0  0  0  0  0  0  0  0  0  0  0  0  0  0  0  0]\n",
      " [ 0  0  0  0  0  0  0  0  0  0  0  0  0  0  0  0]\n",
      " [ 0  0  0  0  0  0  0  0  0  0  0  0  0  0  0  0]\n",
      " [ 0  0  0  0  0  0  0  0  0  0  0  0  0  0  0  0]\n",
      " [ 0  0  0  0  0  0  0  0  0  0  0  0  0  0  0  0]\n",
      " [ 0  0  0  0  0  0  0  0  0  0  0  0  0  0  0  0]\n",
      " [ 0  0  0  0  0  0  0  0  0  0  0  0  0  0  0  0]] \n",
      " 689123    lost So sad\n",
      "Name: text, dtype: object\n",
      "(320000, 30, 16)\n"
     ]
    }
   ],
   "source": [
    "print(x_train_char.shape)\n",
    "print(x_train_char[2].shape)\n",
    "print(x_train_char[2][0:10], \"\\n\", df_train.text[2:3])\n",
    "# print(wordToChar(df_train.text.to_string(index=False)[2])[0:10], df_train.text.to_string(index=False)[2])\n",
    "print(x_test_char.shape)"
   ]
  },
  {
   "cell_type": "code",
   "execution_count": 172,
   "metadata": {},
   "outputs": [
    {
     "data": {
      "text/plain": [
       "['NEGATIVE', 'POSITIVE', 'NEUTRAL']"
      ]
     },
     "execution_count": 172,
     "metadata": {},
     "output_type": "execute_result"
    }
   ],
   "source": [
    "labels = df_train.target.unique().tolist()\n",
    "labels.append(NEUTRAL)\n",
    "labels"
   ]
  },
  {
   "cell_type": "code",
   "execution_count": 173,
   "metadata": {},
   "outputs": [
    {
     "name": "stdout",
     "output_type": "stream",
     "text": [
      "y_train (640000, 1)\n",
      "y_test (320000, 1)\n"
     ]
    }
   ],
   "source": [
    "encoder = LabelEncoder()\n",
    "encoder.fit(df_train.target.tolist())\n",
    "\n",
    "y_train = encoder.transform(df_train.target.tolist())\n",
    "y_test = encoder.transform(df_test.target.tolist())\n",
    "\n",
    "y_train = y_train.reshape(-1,1)\n",
    "y_test = y_test.reshape(-1,1)\n",
    "\n",
    "print(\"y_train\",y_train.shape)\n",
    "print(\"y_test\",y_test.shape)"
   ]
  },
  {
   "cell_type": "code",
   "execution_count": 174,
   "metadata": {},
   "outputs": [
    {
     "name": "stdout",
     "output_type": "stream",
     "text": [
      "x_train (640000, 30)\n",
      "(640000, 30, 16)\n",
      "y_train (640000, 1)\n",
      "\n",
      "x_test (320000, 30)\n",
      "(320000, 30, 16)\n",
      "y_test (320000, 1)\n"
     ]
    }
   ],
   "source": [
    "print(\"x_train\", x_train.shape)\n",
    "print(x_train_char.shape)\n",
    "print(\"y_train\", y_train.shape)\n",
    "print()\n",
    "print(\"x_test\", x_test.shape)\n",
    "print(x_test_char.shape)\n",
    "print(\"y_test\", y_test.shape)"
   ]
  },
  {
   "cell_type": "code",
   "execution_count": 175,
   "metadata": {},
   "outputs": [
    {
     "data": {
      "text/plain": [
       "array([[0],\n",
       "       [0],\n",
       "       [0],\n",
       "       [0],\n",
       "       [1],\n",
       "       [0],\n",
       "       [0],\n",
       "       [1],\n",
       "       [1],\n",
       "       [0]])"
      ]
     },
     "execution_count": 175,
     "metadata": {},
     "output_type": "execute_result"
    }
   ],
   "source": [
    "y_train[:10]\n",
    "# df_train.target[:10]\n",
    "# df_train.text[2]"
   ]
  },
  {
   "cell_type": "code",
   "execution_count": 176,
   "metadata": {},
   "outputs": [
    {
     "name": "stdout",
     "output_type": "stream",
     "text": [
      "(100001, 300)\n"
     ]
    }
   ],
   "source": [
    "# embedding_matrix = np.zeros((vocab_size, W2V_SIZE))\n",
    "embedding_matrix = np.zeros((NB_WORDS+1, W2V_SIZE))\n",
    "for word, i in tokenizer.word_index.items():\n",
    "    if i < NB_WORDS:\n",
    "        if word in word2vec.vocab:\n",
    "            embedding_matrix[i] = word2vec[word]\n",
    "    else:\n",
    "        break\n",
    "print(embedding_matrix.shape)"
   ]
  },
  {
   "cell_type": "code",
   "execution_count": 46,
   "metadata": {},
   "outputs": [
    {
     "name": "stdout",
     "output_type": "stream",
     "text": [
      "0.1224744871391589\n"
     ]
    }
   ],
   "source": [
    "import math\n",
    "r_ch_emb = math.sqrt(6/(W2V_SIZE+100))\n",
    "print(r_ch_emb)"
   ]
  },
  {
   "cell_type": "code",
   "execution_count": 177,
   "metadata": {},
   "outputs": [],
   "source": [
    "class Attention_Layer(layers.Layer):\n",
    "    def __init__(self, units=1, initializer=\"normal\", bias_initializer=\"zeros\"):\n",
    "        self.units = units\n",
    "        self.initializer = initializer\n",
    "        self.bias_initializer = bias_initializer\n",
    "        self.att_initializer = tf.keras.initializers.RandomUniform()\n",
    "        super(Attention_Layer, self).__init__()\n",
    "    \n",
    "    #define weights\n",
    "    def build(self, input_shape):\n",
    "        self.num_dim_perword = input_shape[-1]\n",
    "        self.seq_length = input_shape[-2]\n",
    "        self.v = self.add_weight(shape=(self.num_dim_perword, ), initializer=self.att_initializer, trainable=True,)\n",
    "        self.dense_layer = tf.keras.layers.Dense(self.num_dim_perword)\n",
    "        super(Attention_Layer, self).build(input_shape)\n",
    "    \n",
    "    def call(self, x):\n",
    "        H = self.dense_layer(x)\n",
    "        e = tf.einsum('...ij,...j->...i', H, self.v)\n",
    "        e = Flatten()(e)\n",
    "        \n",
    "        a = Activation('softmax')(e)\n",
    "        \n",
    "        temp = RepeatVector(self.num_dim_perword)(a)\n",
    "        temp = Permute([2,1])(temp)\n",
    "        output = Multiply()([x,temp])\n",
    "        output = Lambda(lambda values: K.sum(values, axis=1))(output)\n",
    "        return output\n",
    "    def compute_output_shape(self, input_shape):\n",
    "        return (input_shape[0], input_shape[-1])\n",
    "\n",
    "\n",
    "def CharEmbedding(maxlen):\n",
    "    inp = Input(shape=(maxlen, ))\n",
    "    initializer = tf.keras.initializers.RandomUniform(minval=-0.12, maxval=0.12, seed=None)\n",
    "    char_embedding_layer = Embedding(len(charToInd)+1, W2V_SIZE, input_length=WORD_LENGTH, embeddings_initializer=initializer, trainable=True)\n",
    "    x = char_embedding_layer(inp)\n",
    "    kernel_sizes= [2, 3, 4, 5]\n",
    "    kernel_filters = [40, 60, 70, 30]\n",
    "    outs = []\n",
    "    CHAR_DIM=0\n",
    "    for i, k in enumerate(kernel_sizes):\n",
    "        out = tf.keras.layers.Conv1D(filters=kernel_filters[i], kernel_size=k, padding=\"same\")(x)\n",
    "        out = tf.keras.layers.MaxPooling1D(pool_size=maxlen, strides=1, padding='valid')(out)\n",
    "        outs.append(out)\n",
    "        CHAR_DIM+=kernel_filters[i]\n",
    "    outs = Concatenate(axis=-1)(outs)\n",
    "    outs = Reshape((CHAR_DIM,))(outs)\n",
    "    outs = Dense(55)(outs)\n",
    "    \n",
    "    lstm_x = Bidirectional(LSTM(20, dropout=0.01, recurrent_dropout=0.05))(x)\n",
    "    outs = Concatenate(axis=-1)([outs, lstm_x])\n",
    "    return Model(inp, outs)"
   ]
  },
  {
   "cell_type": "code",
   "execution_count": 178,
   "metadata": {},
   "outputs": [],
   "source": [
    "APPEND_DIM = 100"
   ]
  },
  {
   "cell_type": "code",
   "execution_count": 179,
   "metadata": {},
   "outputs": [],
   "source": [
    "# charEmbedLayer = CharEmbedding(WORD_LENGTH)\n",
    "# print(charEmbedLayer.summary())"
   ]
  },
  {
   "cell_type": "code",
   "execution_count": 180,
   "metadata": {},
   "outputs": [],
   "source": [
    "def SentEmbedding(maxlen):\n",
    "    x = Input(shape=(maxlen, W2V_SIZE+APPEND_DIM))\n",
    "    kernel_sizes= [2, 3, 4, 5, 6]\n",
    "    kernel_filters = [80, 160, 100, 40, 20]\n",
    "    outs = []\n",
    "    SENT_DIM = 0\n",
    "    for i, k in enumerate(kernel_sizes):\n",
    "        out = tf.keras.layers.Conv1D(filters=kernel_filters[i], kernel_size=k, padding=\"same\")(x)\n",
    "        out = tf.keras.layers.MaxPooling1D(pool_size=maxlen, strides=1, padding='valid')(out)\n",
    "        SENT_DIM += kernel_filters[i]\n",
    "        outs.append(out)\n",
    "    outs = Concatenate(axis=-1)(outs)\n",
    "    outs = Reshape((SENT_DIM,))(outs)\n",
    "    outs = Dense(160)(outs)\n",
    "    return Model(x, outs)\n",
    "    "
   ]
  },
  {
   "cell_type": "code",
   "execution_count": 181,
   "metadata": {},
   "outputs": [],
   "source": [
    "def getModel(seqlen, wordlen):\n",
    "    input_1 = Input(shape=(seqlen,))\n",
    "    input_2 = Input(shape=(seqlen, wordlen,))\n",
    "#     initializer = tf.keras.initializers.RandomUniform(minval=-0.05, maxval=0.05, seed=None)\n",
    "#     embedding_layer = Embedding(vocab_size, W2V_SIZE, weights=[embedding_matrix], input_length=SEQUENCE_LENGTH, trainable=False)\n",
    "    embedding_layer_1 = Embedding(NB_WORDS+1, W2V_SIZE, weights=[embedding_matrix], input_length=SEQUENCE_LENGTH, trainable=False)\n",
    "    embedding_layer_2 = Embedding(NB_WORDS+1, 5, input_length=SEQUENCE_LENGTH, trainable=True)\n",
    "    x_word2vec_1 = embedding_layer_1(input_1)\n",
    "    x_word2vec_2 = embedding_layer_2(input_1)\n",
    "    \n",
    "    charEmbedLayer = CharEmbedding(wordlen)\n",
    "    x_char = TimeDistributed(charEmbedLayer)(input_2)\n",
    "    x = Concatenate(axis=-1)([x_word2vec_1, x_word2vec_2, x_char])\n",
    "    carry = Dense(400, activation='sigmoid')(x)\n",
    "    transform = Dense(400, activation=tf.keras.activations.tanh)(x)\n",
    "    x = carry*x+(1-carry)*transform\n",
    "    x = Dropout(0.4)(x)\n",
    "#     x = Bidirectional(LSTM(150, dropout=0.2, recurrent_dropout=0.2, return_sequences=True))(x)\n",
    "    x_lstm = Bidirectional(LSTM(70, return_sequences=True))(x)\n",
    "    x_att = Attention_Layer()(x_lstm)\n",
    "    x_sent = SentEmbedding(seqlen)(x)\n",
    "    \n",
    "    x = Concatenate(axis=-1)([x_sent, x_att])\n",
    "    carry = Dense(300, activation='sigmoid')(x)\n",
    "    transform = Dense(300, activation=tf.keras.activations.tanh)(x)\n",
    "    x = carry*x+(1-carry)*transform\n",
    "    \n",
    "    x = Dense(300)(x)\n",
    "    x = Dense(64)(x)\n",
    "    out = Dense(1, activation='sigmoid')(x)\n",
    "    \n",
    "    model = Model([input_1, input_2], out)\n",
    "    return model\n",
    "    "
   ]
  },
  {
   "cell_type": "code",
   "execution_count": 195,
   "metadata": {},
   "outputs": [
    {
     "name": "stdout",
     "output_type": "stream",
     "text": [
      "INFO:tensorflow:Using MirroredStrategy with devices ('/job:localhost/replica:0/task:0/device:GPU:2', '/job:localhost/replica:0/task:0/device:GPU:3')\n"
     ]
    },
    {
     "name": "stderr",
     "output_type": "stream",
     "text": [
      "2021-01-21 02:49:29,993 : INFO : Using MirroredStrategy with devices ('/job:localhost/replica:0/task:0/device:GPU:2', '/job:localhost/replica:0/task:0/device:GPU:3')\n"
     ]
    },
    {
     "name": "stdout",
     "output_type": "stream",
     "text": [
      "WARNING:tensorflow:Layer lstm_27 will not use cuDNN kernel since it doesn't meet the cuDNN kernel criteria. It will use generic GPU kernel as fallback when running on GPU\n"
     ]
    },
    {
     "name": "stderr",
     "output_type": "stream",
     "text": [
      "2021-01-21 02:49:30,479 : WARNING : Layer lstm_27 will not use cuDNN kernel since it doesn't meet the cuDNN kernel criteria. It will use generic GPU kernel as fallback when running on GPU\n"
     ]
    },
    {
     "name": "stdout",
     "output_type": "stream",
     "text": [
      "WARNING:tensorflow:Layer lstm_27 will not use cuDNN kernel since it doesn't meet the cuDNN kernel criteria. It will use generic GPU kernel as fallback when running on GPU\n"
     ]
    },
    {
     "name": "stderr",
     "output_type": "stream",
     "text": [
      "2021-01-21 02:49:30,487 : WARNING : Layer lstm_27 will not use cuDNN kernel since it doesn't meet the cuDNN kernel criteria. It will use generic GPU kernel as fallback when running on GPU\n"
     ]
    },
    {
     "name": "stdout",
     "output_type": "stream",
     "text": [
      "WARNING:tensorflow:Layer lstm_27 will not use cuDNN kernel since it doesn't meet the cuDNN kernel criteria. It will use generic GPU kernel as fallback when running on GPU\n"
     ]
    },
    {
     "name": "stderr",
     "output_type": "stream",
     "text": [
      "2021-01-21 02:49:30,493 : WARNING : Layer lstm_27 will not use cuDNN kernel since it doesn't meet the cuDNN kernel criteria. It will use generic GPU kernel as fallback when running on GPU\n"
     ]
    },
    {
     "name": "stdout",
     "output_type": "stream",
     "text": [
      "Model: \"functional_83\"\n",
      "__________________________________________________________________________________________________\n",
      "Layer (type)                    Output Shape         Param #     Connected to                     \n",
      "==================================================================================================\n",
      "input_54 (InputLayer)           [(None, 30)]         0                                            \n",
      "__________________________________________________________________________________________________\n",
      "input_55 (InputLayer)           [(None, 30, 16)]     0                                            \n",
      "__________________________________________________________________________________________________\n",
      "embedding_35 (Embedding)        (None, 30, 300)      30000300    input_54[0][0]                   \n",
      "__________________________________________________________________________________________________\n",
      "embedding_36 (Embedding)        (None, 30, 5)        500005      input_54[0][0]                   \n",
      "__________________________________________________________________________________________________\n",
      "time_distributed_13 (TimeDistri (None, 30, 95)       299915      input_55[0][0]                   \n",
      "__________________________________________________________________________________________________\n",
      "concatenate_68 (Concatenate)    (None, 30, 400)      0           embedding_35[0][0]               \n",
      "                                                                 embedding_36[0][0]               \n",
      "                                                                 time_distributed_13[0][0]        \n",
      "__________________________________________________________________________________________________\n",
      "dense_114 (Dense)               (None, 30, 400)      160400      concatenate_68[0][0]             \n",
      "__________________________________________________________________________________________________\n",
      "tf_op_layer_Sub_25 (TensorFlowO [(None, 30, 400)]    0           dense_114[0][0]                  \n",
      "__________________________________________________________________________________________________\n",
      "dense_115 (Dense)               (None, 30, 400)      160400      concatenate_68[0][0]             \n",
      "__________________________________________________________________________________________________\n",
      "tf_op_layer_Mul_50 (TensorFlowO [(None, 30, 400)]    0           dense_114[0][0]                  \n",
      "                                                                 concatenate_68[0][0]             \n",
      "__________________________________________________________________________________________________\n",
      "tf_op_layer_Mul_51 (TensorFlowO [(None, 30, 400)]    0           tf_op_layer_Sub_25[0][0]         \n",
      "                                                                 dense_115[0][0]                  \n",
      "__________________________________________________________________________________________________\n",
      "tf_op_layer_AddV2_25 (TensorFlo [(None, 30, 400)]    0           tf_op_layer_Mul_50[0][0]         \n",
      "                                                                 tf_op_layer_Mul_51[0][0]         \n",
      "__________________________________________________________________________________________________\n",
      "dropout_13 (Dropout)            (None, 30, 400)      0           tf_op_layer_AddV2_25[0][0]       \n",
      "__________________________________________________________________________________________________\n",
      "bidirectional_28 (Bidirectional (None, 30, 140)      263760      dropout_13[0][0]                 \n",
      "__________________________________________________________________________________________________\n",
      "functional_81 (Functional)      (None, 160)          608560      dropout_13[0][0]                 \n",
      "__________________________________________________________________________________________________\n",
      "attention__layer_13 (Attention_ (None, 140)          19880       bidirectional_28[0][0]           \n",
      "__________________________________________________________________________________________________\n",
      "concatenate_70 (Concatenate)    (None, 300)          0           functional_81[0][0]              \n",
      "                                                                 attention__layer_13[0][0]        \n",
      "__________________________________________________________________________________________________\n",
      "dense_117 (Dense)               (None, 300)          90300       concatenate_70[0][0]             \n",
      "__________________________________________________________________________________________________\n",
      "tf_op_layer_Sub_26 (TensorFlowO [(None, 300)]        0           dense_117[0][0]                  \n",
      "__________________________________________________________________________________________________\n",
      "dense_118 (Dense)               (None, 300)          90300       concatenate_70[0][0]             \n",
      "__________________________________________________________________________________________________\n",
      "tf_op_layer_Mul_52 (TensorFlowO [(None, 300)]        0           dense_117[0][0]                  \n",
      "                                                                 concatenate_70[0][0]             \n",
      "__________________________________________________________________________________________________\n",
      "tf_op_layer_Mul_53 (TensorFlowO [(None, 300)]        0           tf_op_layer_Sub_26[0][0]         \n",
      "                                                                 dense_118[0][0]                  \n",
      "__________________________________________________________________________________________________\n",
      "tf_op_layer_AddV2_26 (TensorFlo [(None, 300)]        0           tf_op_layer_Mul_52[0][0]         \n",
      "                                                                 tf_op_layer_Mul_53[0][0]         \n",
      "__________________________________________________________________________________________________\n",
      "dense_119 (Dense)               (None, 300)          90300       tf_op_layer_AddV2_26[0][0]       \n",
      "__________________________________________________________________________________________________\n",
      "dense_120 (Dense)               (None, 64)           19264       dense_119[0][0]                  \n",
      "__________________________________________________________________________________________________\n",
      "dense_121 (Dense)               (None, 1)            65          dense_120[0][0]                  \n",
      "==================================================================================================\n",
      "Total params: 32,303,449\n",
      "Trainable params: 2,303,149\n",
      "Non-trainable params: 30,000,300\n",
      "__________________________________________________________________________________________________\n",
      "None\n"
     ]
    }
   ],
   "source": [
    "mirrored_strategy = tf.distribute.MirroredStrategy([\"GPU:2\", \"GPU:3\"])\n",
    "\n",
    "with mirrored_strategy.scope():\n",
    "#     embedding_layer = Embedding(vocab_size, W2V_SIZE, weights=[embedding_matrix], input_length=SEQUENCE_LENGTH, trainable=False)\n",
    "#     char_embedding_layer = Embedding(len(charToInd)+1, W2V_SIZE, input_length=WORD_LENGTH, trainable=True)\n",
    "#     charEmbedLayer = CharEmbedding(WORD_LENGTH)\n",
    "    model_dist = getModel(SEQUENCE_LENGTH, WORD_LENGTH)\n",
    "    print(model_dist.summary())\n",
    "    model_dist.compile(loss='binary_crossentropy',\n",
    "              optimizer=\"adam\",\n",
    "              metrics=['accuracy'])\n",
    "    \n",
    "#     model_dist = tf.keras.Sequential([tf.keras.layers.Dense(1, input_shape=(1,))])"
   ]
  },
  {
   "cell_type": "code",
   "execution_count": 192,
   "metadata": {},
   "outputs": [],
   "source": [
    "callbacks = [ ReduceLROnPlateau(monitor='val_loss', patience=1, cooldown=0),\n",
    "              EarlyStopping(monitor='val_accuracy', min_delta=1e-4, patience=1, restore_best_weights=True)]"
   ]
  },
  {
   "cell_type": "code",
   "execution_count": 228,
   "metadata": {},
   "outputs": [],
   "source": [
    "# %%time\n",
    "# history = model_dist.fit([x_train, x_train_char], y_train,\n",
    "#                     batch_size=BATCH_SIZE,\n",
    "# #                     epochs=EPOCHS,\n",
    "#                     epochs=6,\n",
    "#                     validation_split=0.1,\n",
    "#                     verbose=1,\n",
    "#                     callbacks=callbacks)"
   ]
  },
  {
   "cell_type": "code",
   "execution_count": 196,
   "metadata": {},
   "outputs": [
    {
     "name": "stdout",
     "output_type": "stream",
     "text": [
      "Epoch 1/2\n",
      "4500/4500 [==============================] - 580s 129ms/step - loss: 0.4696 - accuracy: 0.7759 - val_loss: 0.4408 - val_accuracy: 0.7935\n",
      "Epoch 2/2\n",
      "4500/4500 [==============================] - 576s 128ms/step - loss: 0.4149 - accuracy: 0.8094 - val_loss: 0.4451 - val_accuracy: 0.7955\n",
      "CPU times: user 40min 25s, sys: 2min 29s, total: 42min 54s\n",
      "Wall time: 19min 36s\n"
     ]
    }
   ],
   "source": [
    "%%time\n",
    "history = model_dist.fit([x_train, x_train_char], y_train,\n",
    "                    batch_size=BATCH_SIZE,\n",
    "#                     epochs=EPOCHS,\n",
    "                    epochs=2,\n",
    "                    validation_split=0.1,\n",
    "                    verbose=1)\n",
    "#                     callbacks=callbacks)"
   ]
  },
  {
   "cell_type": "code",
   "execution_count": 197,
   "metadata": {
    "scrolled": true
   },
   "outputs": [
    {
     "name": "stdout",
     "output_type": "stream",
     "text": [
      "2500/2500 [==============================] - 94s 38ms/step - loss: 0.4465 - accuracy: 0.7933\n",
      "[0.4465339481830597, 0.7933499813079834]\n",
      "ACCURACY: 0.7933499813079834\n",
      "LOSS: 0.4465339481830597\n",
      "CPU times: user 3min 51s, sys: 27.3 s, total: 4min 18s\n",
      "Wall time: 1min 36s\n"
     ]
    }
   ],
   "source": [
    "%%time\n",
    "score = model_dist.evaluate([x_test, x_test_char], y_test, batch_size=BATCH_SIZE)\n",
    "print(score)\n",
    "print(\"ACCURACY:\",score[1])\n",
    "print(\"LOSS:\",score[0])"
   ]
  },
  {
   "cell_type": "code",
   "execution_count": 198,
   "metadata": {},
   "outputs": [
    {
     "data": {
      "image/png": "[encoded data removed]",
      "text/plain": [
       "<Figure size 432x288 with 1 Axes>"
      ]
     },
     "metadata": {
      "needs_background": "light"
     },
     "output_type": "display_data"
    },
    {
     "data": {
      "image/png": "[encoded data removed]",
      "text/plain": [
       "<Figure size 432x288 with 1 Axes>"
      ]
     },
     "metadata": {
      "needs_background": "light"
     },
     "output_type": "display_data"
    }
   ],
   "source": [
    "acc = history.history['accuracy']\n",
    "val_acc = history.history['val_accuracy']\n",
    "loss = history.history['loss']\n",
    "val_loss = history.history['val_loss']\n",
    " \n",
    "epochs = range(len(acc))\n",
    " \n",
    "plt.plot(epochs, acc, 'b', label='Training acc')\n",
    "plt.plot(epochs, val_acc, 'r', label='Validation acc')\n",
    "plt.title('Training and validation accuracy')\n",
    "plt.legend()\n",
    "# plt.savefig('tv_acc_32K.png', bbox_inches='tight')\n",
    "\n",
    " \n",
    "plt.figure()\n",
    " \n",
    "plt.plot(epochs, loss, 'b', label='Training loss')\n",
    "plt.plot(epochs, val_loss, 'r', label='Validation loss')\n",
    "plt.title('Training and validation loss')\n",
    "plt.legend()\n",
    "# plt.savefig('tv_loss_32K.png', bbox_inches='tight')\n",
    "\n",
    " \n",
    "plt.show()"
   ]
  },
  {
   "cell_type": "code",
   "execution_count": 199,
   "metadata": {},
   "outputs": [],
   "source": [
    "def decode_sentiment(score, include_neutral=True):\n",
    "    if include_neutral:        \n",
    "        label = NEUTRAL\n",
    "        if score <= SENTIMENT_THRESHOLDS[0]:\n",
    "            label = NEGATIVE\n",
    "        elif score >= SENTIMENT_THRESHOLDS[1]:\n",
    "            label = POSITIVE\n",
    "\n",
    "        return label\n",
    "    else:\n",
    "        return NEGATIVE if score < 0.5 else POSITIVE"
   ]
  },
  {
   "cell_type": "code",
   "execution_count": 207,
   "metadata": {},
   "outputs": [],
   "source": [
    "def predict(text, include_neutral=False):\n",
    "    start_at = time.time()\n",
    "    # Tokenize text\n",
    "    x_t = pad_sequences(tokenizer.texts_to_sequences([preprocess(text)]), maxlen=SEQUENCE_LENGTH)\n",
    "    \n",
    "#     np_df_test = np.asarray(df_test.text)\n",
    "    x_t_char = np.asarray(list(map(wordToChar, [text])))\n",
    "    # Predict\n",
    "#     print(x_t, x_t_char)\n",
    "    x_t = np.concatenate((x_test[0:BATCH_SIZE+1], x_t), axis=0)\n",
    "    x_t_char = np.concatenate((x_test_char[0:BATCH_SIZE+1], x_t_char), axis=0)\n",
    "    score = model_dist.predict([x_t, x_t_char], verbose=1, batch_size=BATCH_SIZE)[-1]\n",
    "#     print(score)\n",
    "#     score = model_dist.predict([x_test, x_test_char])[0]\n",
    "    # Decode sentiment\n",
    "    label = decode_sentiment(score, include_neutral=include_neutral)\n",
    "\n",
    "    return {\"label\": label, \"score\": float(score),\n",
    "       \"elapsed_time\": time.time()-start_at}"
   ]
  },
  {
   "cell_type": "code",
   "execution_count": 208,
   "metadata": {},
   "outputs": [
    {
     "name": "stdout",
     "output_type": "stream",
     "text": [
      "2/2 [==============================] - 0s 22ms/step\n"
     ]
    },
    {
     "data": {
      "text/plain": [
       "{'label': 'POSITIVE',\n",
       " 'score': 0.9895184636116028,\n",
       " 'elapsed_time': 0.2849550247192383}"
      ]
     },
     "execution_count": 208,
     "metadata": {},
     "output_type": "execute_result"
    }
   ],
   "source": [
    "predict(\"I love the music\") #12345"
   ]
  },
  {
   "cell_type": "code",
   "execution_count": 209,
   "metadata": {},
   "outputs": [
    {
     "name": "stdout",
     "output_type": "stream",
     "text": [
      "2/2 [==============================] - 0s 19ms/step\n"
     ]
    },
    {
     "data": {
      "text/plain": [
       "{'label': 'NEGATIVE',\n",
       " 'score': 0.012774350121617317,\n",
       " 'elapsed_time': 0.23687481880187988}"
      ]
     },
     "execution_count": 209,
     "metadata": {},
     "output_type": "execute_result"
    }
   ],
   "source": [
    "predict(\"I hate the rain\") #12345"
   ]
  },
  {
   "cell_type": "code",
   "execution_count": 210,
   "metadata": {},
   "outputs": [
    {
     "name": "stdout",
     "output_type": "stream",
     "text": [
      "2/2 [==============================] - 0s 21ms/step\n"
     ]
    },
    {
     "data": {
      "text/plain": [
       "{'label': 'NEGATIVE',\n",
       " 'score': 0.42482614517211914,\n",
       " 'elapsed_time': 0.24492383003234863}"
      ]
     },
     "execution_count": 210,
     "metadata": {},
     "output_type": "execute_result"
    }
   ],
   "source": [
    "predict(\"i thought it would be good, but it's not\") #1-34"
   ]
  },
  {
   "cell_type": "code",
   "execution_count": 211,
   "metadata": {},
   "outputs": [
    {
     "name": "stdout",
     "output_type": "stream",
     "text": [
      "2/2 [==============================] - 0s 18ms/step\n"
     ]
    },
    {
     "data": {
      "text/plain": [
       "{'label': 'NEGATIVE',\n",
       " 'score': 0.2860795259475708,\n",
       " 'elapsed_time': 0.22554588317871094}"
      ]
     },
     "execution_count": 211,
     "metadata": {},
     "output_type": "execute_result"
    }
   ],
   "source": [
    "predict(\"was that really good??? but in my opinion it's bad\") #--23"
   ]
  },
  {
   "cell_type": "code",
   "execution_count": 212,
   "metadata": {},
   "outputs": [
    {
     "name": "stdout",
     "output_type": "stream",
     "text": [
      "2/2 [==============================] - 0s 18ms/step\n"
     ]
    },
    {
     "data": {
      "text/plain": [
       "{'label': 'POSITIVE',\n",
       " 'score': 0.5750881433486938,\n",
       " 'elapsed_time': 0.2346646785736084}"
      ]
     },
     "execution_count": 212,
     "metadata": {},
     "output_type": "execute_result"
    }
   ],
   "source": [
    "predict(\"They said it would be great, and they were right.\") #.~--"
   ]
  },
  {
   "cell_type": "code",
   "execution_count": 213,
   "metadata": {},
   "outputs": [
    {
     "name": "stdout",
     "output_type": "stream",
     "text": [
      "2/2 [==============================] - 0s 23ms/step\n"
     ]
    },
    {
     "data": {
      "text/plain": [
       "{'label': 'NEGATIVE',\n",
       " 'score': 0.15516598522663116,\n",
       " 'elapsed_time': 0.25916051864624023}"
      ]
     },
     "execution_count": 213,
     "metadata": {},
     "output_type": "execute_result"
    }
   ],
   "source": [
    "predict(\"They said it would be great, and they were wrong.\") #.234"
   ]
  },
  {
   "cell_type": "code",
   "execution_count": 214,
   "metadata": {},
   "outputs": [
    {
     "name": "stdout",
     "output_type": "stream",
     "text": [
      "2/2 [==============================] - 0s 23ms/step\n"
     ]
    },
    {
     "data": {
      "text/plain": [
       "{'label': 'NEGATIVE',\n",
       " 'score': 0.1111050620675087,\n",
       " 'elapsed_time': 0.23586225509643555}"
      ]
     },
     "execution_count": 214,
     "metadata": {},
     "output_type": "execute_result"
    }
   ],
   "source": [
    "predict(\"i don't know what i'm doing\") #---"
   ]
  },
  {
   "cell_type": "code",
   "execution_count": 222,
   "metadata": {},
   "outputs": [
    {
     "name": "stdout",
     "output_type": "stream",
     "text": [
      "2/2 [==============================] - 0s 21ms/step\n"
     ]
    },
    {
     "data": {
      "text/plain": [
       "{'label': 'POSITIVE',\n",
       " 'score': 0.9828831553459167,\n",
       " 'elapsed_time': 0.27139711380004883}"
      ]
     },
     "execution_count": 222,
     "metadata": {},
     "output_type": "execute_result"
    }
   ],
   "source": [
    "predict(\"I am happpppppyyyyyyy\")"
   ]
  },
  {
   "cell_type": "code",
   "execution_count": 215,
   "metadata": {},
   "outputs": [
    {
     "name": "stdout",
     "output_type": "stream",
     "text": [
      "3\n",
      "Oh, you’re terrible!\n",
      "2/2 [==============================] - 0s 19ms/step\n"
     ]
    },
    {
     "data": {
      "text/plain": [
       "{'label': 'NEGATIVE',\n",
       " 'score': 0.03322270140051842,\n",
       " 'elapsed_time': 0.2602107524871826}"
      ]
     },
     "execution_count": 215,
     "metadata": {},
     "output_type": "execute_result"
    }
   ],
   "source": [
    "predict(\"Oh, you’re terrible!\") #---"
   ]
  },
  {
   "cell_type": "code",
   "execution_count": 217,
   "metadata": {},
   "outputs": [
    {
     "name": "stdout",
     "output_type": "stream",
     "text": [
      "2500/2500 [==============================] - 94s 38ms/step\n",
      "CPU times: user 3min 49s, sys: 25.8 s, total: 4min 14s\n",
      "Wall time: 1min 40s\n"
     ]
    }
   ],
   "source": [
    "%%time\n",
    "y_pred_1d = []\n",
    "y_test_1d = list(df_test.target)\n",
    "scores = model_dist.predict([x_test, x_test_char], verbose=1, batch_size=128)\n",
    "y_pred_1d = [decode_sentiment(score, include_neutral=False) for score in scores]"
   ]
  },
  {
   "cell_type": "code",
   "execution_count": 176,
   "metadata": {},
   "outputs": [
    {
     "name": "stdout",
     "output_type": "stream",
     "text": [
      "2500/2500 [==============================] - 108s 43ms/step\n",
      "CPU times: user 5min 36s, sys: 16.4 s, total: 5min 53s\n",
      "Wall time: 1min 59s\n"
     ]
    }
   ],
   "source": [
    "%%time\n",
    "y_pred_1d = []\n",
    "y_test_1d = list(df_test.target)\n",
    "scores = model_dist.predict([x_test, x_test_char], verbose=1, batch_size=BATCH_SIZE)\n",
    "y_pred_1d = [decode_sentiment(score, include_neutral=False) for score in scores]"
   ]
  },
  {
   "cell_type": "code",
   "execution_count": 218,
   "metadata": {},
   "outputs": [],
   "source": [
    "def plot_confusion_matrix(cm, classes,\n",
    "                          title='Confusion matrix',\n",
    "                          cmap=plt.cm.Blues):\n",
    "    \"\"\"\n",
    "    This function prints and plots the confusion matrix.\n",
    "    Normalization can be applied by setting `normalize=True`.\n",
    "    \"\"\"\n",
    "\n",
    "    cm = cm.astype('float') / cm.sum(axis=1)[:, np.newaxis]\n",
    "\n",
    "    plt.imshow(cm, interpolation='nearest', cmap=cmap)\n",
    "    plt.title(title, fontsize=30)\n",
    "    plt.colorbar()\n",
    "    tick_marks = np.arange(len(classes))\n",
    "    plt.xticks(tick_marks, classes, rotation=90, fontsize=22)\n",
    "    plt.yticks(tick_marks, classes, fontsize=22)\n",
    "\n",
    "    fmt = '.2f'\n",
    "    thresh = cm.max() / 2.\n",
    "    for i, j in itertools.product(range(cm.shape[0]), range(cm.shape[1])):\n",
    "        plt.text(j, i, format(cm[i, j], fmt),\n",
    "                 horizontalalignment=\"center\",\n",
    "                 color=\"white\" if cm[i, j] > thresh else \"black\")\n",
    "\n",
    "    plt.ylabel('True label', fontsize=25)\n",
    "    plt.xlabel('Predicted label', fontsize=25)"
   ]
  },
  {
   "cell_type": "code",
   "execution_count": 219,
   "metadata": {},
   "outputs": [
    {
     "data": {
      "image/png": "[encoded data removed]",
      "text/plain": [
       "<Figure size 432x432 with 2 Axes>"
      ]
     },
     "metadata": {
      "needs_background": "light"
     },
     "output_type": "display_data"
    },
    {
     "name": "stdout",
     "output_type": "stream",
     "text": [
      "CPU times: user 1.18 s, sys: 38.9 ms, total: 1.22 s\n",
      "Wall time: 1.21 s\n"
     ]
    }
   ],
   "source": [
    "%%time\n",
    "\n",
    "cnf_matrix = confusion_matrix(y_test_1d, y_pred_1d)\n",
    "plt.figure(figsize=(6,6))\n",
    "plot_confusion_matrix(cnf_matrix, classes=df_train.target.unique(), title=\"Confusion matrix\")\n",
    "plt.savefig('conf_mat_160K.png', bbox_inches='tight')\n",
    "plt.show()\n"
   ]
  },
  {
   "cell_type": "code",
   "execution_count": 220,
   "metadata": {},
   "outputs": [
    {
     "name": "stdout",
     "output_type": "stream",
     "text": [
      "              precision    recall  f1-score   support\n",
      "\n",
      "    NEGATIVE       0.80      0.79      0.79    159814\n",
      "    POSITIVE       0.79      0.80      0.80    160186\n",
      "\n",
      "    accuracy                           0.79    320000\n",
      "   macro avg       0.79      0.79      0.79    320000\n",
      "weighted avg       0.79      0.79      0.79    320000\n",
      "\n"
     ]
    }
   ],
   "source": [
    "print(classification_report(y_test_1d, y_pred_1d))"
   ]
  },
  {
   "cell_type": "code",
   "execution_count": 179,
   "metadata": {},
   "outputs": [
    {
     "data": {
      "text/plain": [
       "0.789409375"
      ]
     },
     "execution_count": 179,
     "metadata": {},
     "output_type": "execute_result"
    }
   ],
   "source": [
    "accuracy_score(y_test_1d, y_pred_1d)"
   ]
  },
  {
   "cell_type": "code",
   "execution_count": 229,
   "metadata": {},
   "outputs": [],
   "source": [
    "# model_dist.save(\"best_model.pkl\")"
   ]
  }
 ],
 "metadata": {
  "kernelspec": {
   "display_name": "Python 3",
   "language": "python",
   "name": "python3"
  },
  "language_info": {
   "codemirror_mode": {
    "name": "ipython",
    "version": 3
   },
   "file_extension": ".py",
   "mimetype": "text/x-python",
   "name": "python",
   "nbconvert_exporter": "python",
   "pygments_lexer": "ipython3",
   "version": "3.6.9"
  }
 },
 "nbformat": 4,
 "nbformat_minor": 4
}
